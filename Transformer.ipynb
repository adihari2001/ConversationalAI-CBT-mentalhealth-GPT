{
  "nbformat": 4,
  "nbformat_minor": 0,
  "metadata": {
    "colab": {
      "name": "Transformer.ipynb",
      "provenance": [],
      "authorship_tag": "ABX9TyNUNp/rGhLq8kTabop3mi5R",
      "include_colab_link": true
    },
    "kernelspec": {
      "name": "python3",
      "display_name": "Python 3"
    },
    "language_info": {
      "name": "python"
    }
  },
  "cells": [
    {
      "cell_type": "markdown",
      "metadata": {
        "id": "view-in-github",
        "colab_type": "text"
      },
      "source": [
        "<a href=\"https://colab.research.google.com/github/adihari2001/ProgrammingAssignment2/blob/master/Transformer.ipynb\" target=\"_parent\"><img src=\"https://colab.research.google.com/assets/colab-badge.svg\" alt=\"Open In Colab\"/></a>"
      ]
    },
    {
      "cell_type": "code",
      "execution_count": null,
      "metadata": {
        "colab": {
          "base_uri": "https://localhost:8080/"
        },
        "id": "B6q48uBmyU5d",
        "outputId": "c78e78c8-0307-43cd-8947-a97058c4b3aa"
      },
      "outputs": [
        {
          "output_type": "stream",
          "name": "stdout",
          "text": [
            "Mounted at /content/gdrive\n"
          ]
        }
      ],
      "source": [
        "from google.colab import drive\n",
        "drive.mount(\"/content/gdrive\")"
      ]
    },
    {
      "cell_type": "code",
      "source": [
        "ls\n"
      ],
      "metadata": {
        "colab": {
          "base_uri": "https://localhost:8080/"
        },
        "id": "5TBxfaaxzaAX",
        "outputId": "616ec714-7a4e-4e13-9179-24a41b2ccf52"
      },
      "execution_count": null,
      "outputs": [
        {
          "output_type": "stream",
          "name": "stdout",
          "text": [
            "\u001b[0m\u001b[01;34mgdrive\u001b[0m/  \u001b[01;34msample_data\u001b[0m/\n"
          ]
        }
      ]
    },
    {
      "cell_type": "code",
      "source": [
        "cd gdrive/My Drive/Colab Notebooks/Fyp-transformer"
      ],
      "metadata": {
        "colab": {
          "base_uri": "https://localhost:8080/"
        },
        "id": "FaGbjSXozsAo",
        "outputId": "e8dfe561-6a05-454b-8316-dbc56e9fd922"
      },
      "execution_count": null,
      "outputs": [
        {
          "output_type": "stream",
          "name": "stdout",
          "text": [
            "/content/gdrive/My Drive/Colab Notebooks/Fyp-transformer\n"
          ]
        }
      ]
    },
    {
      "cell_type": "code",
      "source": [
        "cd transfer-learning-conv-ai"
      ],
      "metadata": {
        "colab": {
          "base_uri": "https://localhost:8080/"
        },
        "id": "18cZ2Th41Qyf",
        "outputId": "129578bf-c12a-428d-845b-03286e74f1ca"
      },
      "execution_count": null,
      "outputs": [
        {
          "output_type": "stream",
          "name": "stdout",
          "text": [
            "/content/gdrive/My Drive/Colab Notebooks/Fyp-transformer/transfer-learning-conv-ai\n"
          ]
        }
      ]
    },
    {
      "cell_type": "code",
      "source": [
        "!pip install transformers"
      ],
      "metadata": {
        "colab": {
          "base_uri": "https://localhost:8080/"
        },
        "id": "dsIInFo42Epa",
        "outputId": "c5842721-f287-453b-e3f2-f421874e054c"
      },
      "execution_count": null,
      "outputs": [
        {
          "output_type": "stream",
          "name": "stdout",
          "text": [
            "Collecting transformers\n",
            "  Downloading transformers-4.18.0-py3-none-any.whl (4.0 MB)\n",
            "\u001b[K     |████████████████████████████████| 4.0 MB 5.2 MB/s \n",
            "\u001b[?25hCollecting tokenizers!=0.11.3,<0.13,>=0.11.1\n",
            "  Downloading tokenizers-0.11.6-cp37-cp37m-manylinux_2_12_x86_64.manylinux2010_x86_64.whl (6.5 MB)\n",
            "\u001b[K     |████████████████████████████████| 6.5 MB 35.6 MB/s \n",
            "\u001b[?25hRequirement already satisfied: filelock in /usr/local/lib/python3.7/dist-packages (from transformers) (3.6.0)\n",
            "Collecting huggingface-hub<1.0,>=0.1.0\n",
            "  Downloading huggingface_hub-0.5.1-py3-none-any.whl (77 kB)\n",
            "\u001b[K     |████████████████████████████████| 77 kB 6.8 MB/s \n",
            "\u001b[?25hRequirement already satisfied: requests in /usr/local/lib/python3.7/dist-packages (from transformers) (2.23.0)\n",
            "Requirement already satisfied: regex!=2019.12.17 in /usr/local/lib/python3.7/dist-packages (from transformers) (2019.12.20)\n",
            "Collecting sacremoses\n",
            "  Downloading sacremoses-0.0.49-py3-none-any.whl (895 kB)\n",
            "\u001b[K     |████████████████████████████████| 895 kB 43.7 MB/s \n",
            "\u001b[?25hRequirement already satisfied: importlib-metadata in /usr/local/lib/python3.7/dist-packages (from transformers) (4.11.3)\n",
            "Collecting pyyaml>=5.1\n",
            "  Downloading PyYAML-6.0-cp37-cp37m-manylinux_2_5_x86_64.manylinux1_x86_64.manylinux_2_12_x86_64.manylinux2010_x86_64.whl (596 kB)\n",
            "\u001b[K     |████████████████████████████████| 596 kB 41.6 MB/s \n",
            "\u001b[?25hRequirement already satisfied: packaging>=20.0 in /usr/local/lib/python3.7/dist-packages (from transformers) (21.3)\n",
            "Requirement already satisfied: numpy>=1.17 in /usr/local/lib/python3.7/dist-packages (from transformers) (1.21.5)\n",
            "Requirement already satisfied: tqdm>=4.27 in /usr/local/lib/python3.7/dist-packages (from transformers) (4.63.0)\n",
            "Requirement already satisfied: typing-extensions>=3.7.4.3 in /usr/local/lib/python3.7/dist-packages (from huggingface-hub<1.0,>=0.1.0->transformers) (3.10.0.2)\n",
            "Requirement already satisfied: pyparsing!=3.0.5,>=2.0.2 in /usr/local/lib/python3.7/dist-packages (from packaging>=20.0->transformers) (3.0.7)\n",
            "Requirement already satisfied: zipp>=0.5 in /usr/local/lib/python3.7/dist-packages (from importlib-metadata->transformers) (3.7.0)\n",
            "Requirement already satisfied: urllib3!=1.25.0,!=1.25.1,<1.26,>=1.21.1 in /usr/local/lib/python3.7/dist-packages (from requests->transformers) (1.24.3)\n",
            "Requirement already satisfied: certifi>=2017.4.17 in /usr/local/lib/python3.7/dist-packages (from requests->transformers) (2021.10.8)\n",
            "Requirement already satisfied: chardet<4,>=3.0.2 in /usr/local/lib/python3.7/dist-packages (from requests->transformers) (3.0.4)\n",
            "Requirement already satisfied: idna<3,>=2.5 in /usr/local/lib/python3.7/dist-packages (from requests->transformers) (2.10)\n",
            "Requirement already satisfied: six in /usr/local/lib/python3.7/dist-packages (from sacremoses->transformers) (1.15.0)\n",
            "Requirement already satisfied: joblib in /usr/local/lib/python3.7/dist-packages (from sacremoses->transformers) (1.1.0)\n",
            "Requirement already satisfied: click in /usr/local/lib/python3.7/dist-packages (from sacremoses->transformers) (7.1.2)\n",
            "Installing collected packages: pyyaml, tokenizers, sacremoses, huggingface-hub, transformers\n",
            "  Attempting uninstall: pyyaml\n",
            "    Found existing installation: PyYAML 3.13\n",
            "    Uninstalling PyYAML-3.13:\n",
            "      Successfully uninstalled PyYAML-3.13\n",
            "Successfully installed huggingface-hub-0.5.1 pyyaml-6.0 sacremoses-0.0.49 tokenizers-0.11.6 transformers-4.18.0\n"
          ]
        }
      ]
    },
    {
      "cell_type": "code",
      "source": [
        ""
      ],
      "metadata": {
        "id": "eIkaYBCuRB95"
      },
      "execution_count": null,
      "outputs": []
    },
    {
      "cell_type": "code",
      "source": [
        "!pip install pytorch-ignite"
      ],
      "metadata": {
        "colab": {
          "base_uri": "https://localhost:8080/"
        },
        "id": "3Hs2OLYm2N6-",
        "outputId": "fa0c1d8c-ebc5-459a-fc46-6e54bf527227"
      },
      "execution_count": null,
      "outputs": [
        {
          "output_type": "stream",
          "name": "stdout",
          "text": [
            "Collecting pytorch-ignite\n",
            "  Downloading pytorch_ignite-0.4.8-py3-none-any.whl (251 kB)\n",
            "\u001b[?25l\r\u001b[K     |█▎                              | 10 kB 17.2 MB/s eta 0:00:01\r\u001b[K     |██▋                             | 20 kB 13.1 MB/s eta 0:00:01\r\u001b[K     |████                            | 30 kB 10.0 MB/s eta 0:00:01\r\u001b[K     |█████▏                          | 40 kB 4.5 MB/s eta 0:00:01\r\u001b[K     |██████▌                         | 51 kB 4.3 MB/s eta 0:00:01\r\u001b[K     |███████▉                        | 61 kB 5.1 MB/s eta 0:00:01\r\u001b[K     |█████████                       | 71 kB 5.3 MB/s eta 0:00:01\r\u001b[K     |██████████▍                     | 81 kB 4.2 MB/s eta 0:00:01\r\u001b[K     |███████████▊                    | 92 kB 4.7 MB/s eta 0:00:01\r\u001b[K     |█████████████                   | 102 kB 5.1 MB/s eta 0:00:01\r\u001b[K     |██████████████▎                 | 112 kB 5.1 MB/s eta 0:00:01\r\u001b[K     |███████████████▋                | 122 kB 5.1 MB/s eta 0:00:01\r\u001b[K     |█████████████████               | 133 kB 5.1 MB/s eta 0:00:01\r\u001b[K     |██████████████████▏             | 143 kB 5.1 MB/s eta 0:00:01\r\u001b[K     |███████████████████▌            | 153 kB 5.1 MB/s eta 0:00:01\r\u001b[K     |████████████████████▉           | 163 kB 5.1 MB/s eta 0:00:01\r\u001b[K     |██████████████████████▏         | 174 kB 5.1 MB/s eta 0:00:01\r\u001b[K     |███████████████████████▍        | 184 kB 5.1 MB/s eta 0:00:01\r\u001b[K     |████████████████████████▊       | 194 kB 5.1 MB/s eta 0:00:01\r\u001b[K     |██████████████████████████      | 204 kB 5.1 MB/s eta 0:00:01\r\u001b[K     |███████████████████████████▎    | 215 kB 5.1 MB/s eta 0:00:01\r\u001b[K     |████████████████████████████▋   | 225 kB 5.1 MB/s eta 0:00:01\r\u001b[K     |██████████████████████████████  | 235 kB 5.1 MB/s eta 0:00:01\r\u001b[K     |███████████████████████████████▏| 245 kB 5.1 MB/s eta 0:00:01\r\u001b[K     |████████████████████████████████| 251 kB 5.1 MB/s \n",
            "\u001b[?25hRequirement already satisfied: torch<2,>=1.3 in /usr/local/lib/python3.7/dist-packages (from pytorch-ignite) (1.10.0+cu111)\n",
            "Requirement already satisfied: typing-extensions in /usr/local/lib/python3.7/dist-packages (from torch<2,>=1.3->pytorch-ignite) (3.10.0.2)\n",
            "Installing collected packages: pytorch-ignite\n",
            "Successfully installed pytorch-ignite-0.4.8\n"
          ]
        }
      ]
    },
    {
      "cell_type": "code",
      "source": [
        "!python interact.py"
      ],
      "metadata": {
        "colab": {
          "base_uri": "https://localhost:8080/"
        },
        "id": "d0vIKLRl20qM",
        "outputId": "3ab93840-7dda-4ec9-d212-a5d6381ad6b8"
      },
      "execution_count": null,
      "outputs": [
        {
          "output_type": "stream",
          "name": "stdout",
          "text": [
            "INFO:interact.py:Namespace(dataset_cache='./dataset_cache', dataset_path='', device='cpu', max_history=2, max_length=20, min_length=1, model='openai-gpt', model_checkpoint='', no_sample=False, seed=0, temperature=0.7, top_k=0, top_p=0.9)\n",
            "Downloading: 100% 413M/413M [00:10<00:00, 42.1MB/s]\n",
            "INFO:/content/gdrive/MyDrive/Colab Notebooks/Fyp-transformer/transfer-learning-conv-ai/utils.py:extracting archive file /root/.cache/huggingface/transformers/2f5114b5eb72f9515802779c42c1b289bebdb1cfc8ce94c653237518eb530b34.75f2a4fe69178ff43138117a977e107a5fc7d402603a0825a296b531f246b3f2 to temp dir /tmp/tmpv28mcdn8\n",
            "INFO:interact.py:Get pretrained model and tokenizer\n",
            "ftfy or spacy is not installed using BERT BasicTokenizer instead of SpaCy & ftfy.\n",
            "Some weights of the model checkpoint at /tmp/tmpv28mcdn8 were not used when initializing OpenAIGPTLMHeadModel: ['multiple_choice_head.summary.bias', 'multiple_choice_head.summary.weight']\n",
            "- This IS expected if you are initializing OpenAIGPTLMHeadModel from the checkpoint of a model trained on another task or with another architecture (e.g. initializing a BertForSequenceClassification model from a BertForPreTraining model).\n",
            "- This IS NOT expected if you are initializing OpenAIGPTLMHeadModel from the checkpoint of a model that you expect to be exactly identical (initializing a BertForSequenceClassification model from a BertForSequenceClassification model).\n",
            "INFO:interact.py:Sample a personality\n",
            "INFO:/content/gdrive/MyDrive/Colab Notebooks/Fyp-transformer/transfer-learning-conv-ai/utils.py:Load tokenized dataset from cache at ./dataset_cache_OpenAIGPTTokenizer\n",
            "INFO:interact.py:Selected personality: i hate broccoli. i design video games for a living. my mom is my best friend. rock music is my favorite. i am afraid of the dark.\n",
            ">>> hey\n",
            "hey, i love to play video games\n",
            ">>> Me too\n",
            "what do you do for fun?\n",
            ">>> Just hang out\n",
            "i work on my computer and do video games\n",
            ">>> Traceback (most recent call last):\n",
            "  File \"interact.py\", line 154, in <module>\n",
            "  File \"interact.py\", line 140, in run\n",
            "    raw_text = input(\">>> \")\n",
            "KeyboardInterrupt\n"
          ]
        }
      ]
    },
    {
      "cell_type": "code",
      "source": [
        ""
      ],
      "metadata": {
        "id": "XgN_Cf1xPa8p"
      },
      "execution_count": null,
      "outputs": []
    },
    {
      "cell_type": "code",
      "source": [
        "\n"
      ],
      "metadata": {
        "id": "otCD1C_N2537"
      },
      "execution_count": null,
      "outputs": []
    },
    {
      "cell_type": "code",
      "source": [
        ""
      ],
      "metadata": {
        "id": "-ukDdheUueF4"
      },
      "execution_count": null,
      "outputs": []
    }
  ]
}